{
  "nbformat": 4,
  "nbformat_minor": 0,
  "metadata": {
    "colab": {
      "name": "sm9439_InfoVisHW1.ipynb",
      "provenance": [],
      "collapsed_sections": []
    },
    "kernelspec": {
      "name": "python3",
      "display_name": "Python 3"
    },
    "language_info": {
      "name": "python"
    }
  },
  "cells": [
    {
      "cell_type": "markdown",
      "metadata": {
        "id": "wlI2jBjavHGi"
      },
      "source": [
        "# CS-GY 6313/CUSP-GX 6006 Information Assignment 1\n",
        "\n",
        "Given: Two triangle positions in 3D, triangle colors, and camera parameters. \n",
        "\n",
        "Output: Saved and visualizable color images from the three given cameras (as .png, .jpg, etc.)\n",
        "\n",
        "##Inputs:\n",
        "\n",
        "3D Coordinates of the vertices two triangles (vertices1, vertices2, vertices3)\n",
        "\n",
        "```\n",
        "tri1_vertices = [(x0, y0, z0), (x1, y1, z1), (x2, y2, z2)]\n",
        "tri2_vertices = [(x0, y0, z0), (x1, y1, z1), (x2, y2, z2)] \n",
        "```\n",
        "Camera parameters (position, forward/facing direction, up/camera orientation, fov). Assume aspect ratio is 1:1 and FOV in degrees.\n",
        "```\n",
        "cam1 = [(x0, y0, z0), (x0_f, y0_f, z0_f), (x0_u, y0_u, z0_u), fov0]\n",
        "cam2 = [(x1, y1, z1), (x1_f, y1_f, z1_f), (x1_u, y1_u, z1_u), fov1]\n",
        "cam3 = [(x2, y2, z2), (x2_f, y2_f, z2_f), (x2_u, y2_u, z2_u), fov2]\n",
        "```\n",
        "\n"
      ]
    },
    {
      "cell_type": "markdown",
      "metadata": {
        "id": "emnvsFnK0HrV"
      },
      "source": [
        "Changelog: \n",
        "10/6: Fixed last row of translate_center_to_origin to be [0, 0, 0, 1] instead of [0, 0, 1, 0]\n",
        "9/29: Fixed a variable typo in scale_by_2_matrix to 2/(t-b), orginally 2/(l-b) "
      ]
    },
    {
      "cell_type": "markdown",
      "metadata": {
        "id": "feAxAcPB8EGY"
      },
      "source": [
        "# Programming exercises"
      ]
    },
    {
      "cell_type": "code",
      "metadata": {
        "colab": {
          "base_uri": "https://localhost:8080/"
        },
        "id": "gKN9s6seT7go",
        "outputId": "243214a5-9653-4e76-e96d-e3f2f8f30c82"
      },
      "source": [
        "from google.colab import drive\n",
        "from google.colab import files\n",
        "import matplotlib.pyplot as plt \n",
        "import numpy as np\n",
        "import math\n",
        "\n",
        "drive.mount('/content/drive')"
      ],
      "execution_count": null,
      "outputs": [
        {
          "output_type": "stream",
          "name": "stdout",
          "text": [
            "Drive already mounted at /content/drive; to attempt to forcibly remount, call drive.mount(\"/content/drive\", force_remount=True).\n"
          ]
        }
      ]
    },
    {
      "cell_type": "markdown",
      "metadata": {
        "id": "0is-PcpgqiTB"
      },
      "source": [
        "## Render triangles in camera using CPU-only rasterisation.\n",
        "\n",
        "\n",
        "Write a function to render an image using camera settings and triangle vertices as the input. Write your own code for rasterization to render a triangle pix-by-pix. You can use any method to show the triangles (ex. Matplotlib, OpenCV, plotly, etc.) as long as you first perform Model-View-Projection.\n",
        "\n",
        "\n",
        "\n",
        "\n"
      ]
    },
    {
      "cell_type": "markdown",
      "metadata": {
        "id": "yuYMC1k0_WIV"
      },
      "source": [
        "# Complete the functions for Model View Projection\n",
        "\n",
        "Model: objects to coordinates in world space\n",
        "\n",
        "View: from world space to camera space\n",
        "\n",
        "Projection: from camera space to clip/screen space"
      ]
    },
    {
      "cell_type": "code",
      "metadata": {
        "id": "Ef9lWGNpUECT"
      },
      "source": [
        "# Since our triangle vertices are already in world space (x, y, z), there's\n",
        "# no need write a function for the Model part of MVP! We can jump directly to \n",
        "# getting the view matrix and using that to get the camera coordinates."
      ],
      "execution_count": null,
      "outputs": []
    },
    {
      "cell_type": "code",
      "metadata": {
        "id": "F2P1oZUQCek6"
      },
      "source": [
        "def view(camera, triangle1, triangle2):\n",
        "  ### TODO: Find R_view and T_view using the camera settings\n",
        "  T_view = [(1,0,0,-(camera[0][0])),(0,1,0,-(camera[0][1])),(0,0,1,-(camera[0][2])),(0,0,0,1)]\n",
        "  print('T_VIEW')\n",
        "  print(T_view)\n",
        "  g_axis = np.subtract(camera[1],camera[0])\n",
        "  CDirection= g_axis/np.linalg.norm(g_axis)\n",
        "  CProd = np.cross(CDirection, camera[2])\n",
        "  Rcamera = CProd/np.linalg.norm(CProd)\n",
        "  Ucamera = np.cross(Rcamera, CDirection)\n",
        "  R_view = [(Rcamera[0],Rcamera[1],Rcamera[2],0),(Ucamera[0],Ucamera[1],Ucamera[2],0),(CDirection[0],CDirection[1],CDirection[2],0),(0,0,0,1)]\n",
        "  print(R_view)\n",
        "  ### TODO: Use M_view to find the vertices coordinates in camera space\n",
        "  M_view = np.matmul(R_view, T_view)\n",
        "  print('M_VIEW')\n",
        "  print(M_view)\n",
        "  \n",
        "  tri1_vert1 = np.matmul(M_view,np.append(triangle1[0],[1]))\n",
        "  tri1_vert2 = np.matmul(M_view,np.append(triangle1[1],[1]))\n",
        "  tri1_vert3 = np.matmul(M_view,np.append(triangle1[2],[1]))\n",
        "\n",
        "  tri2_vert1 = np.matmul(M_view,np.append(triangle2[0],[1]))\n",
        "  tri2_vert2 = np.matmul(M_view,np.append(triangle2[1],[1]))\n",
        "  tri2_vert3 = np.matmul(M_view,np.append(triangle2[2],[1]))\n",
        "\n",
        "  tri1_in_camera_space = [np.ravel(tri1_vert1), np.ravel(tri1_vert2), np.ravel(tri1_vert3)]   \n",
        "  tri2_in_camera_space = [np.ravel(tri2_vert1), np.ravel(tri2_vert2), np.ravel(tri2_vert3)]\n",
        "  print('TICS')\n",
        "  return tri1_in_camera_space, tri2_in_camera_space"
      ],
      "execution_count": null,
      "outputs": []
    },
    {
      "cell_type": "code",
      "metadata": {
        "id": "50Nn5IZMHyyu",
        "colab": {
          "base_uri": "https://localhost:8080/"
        },
        "outputId": "372de519-a6cc-4586-bbb0-415f2303addd"
      },
      "source": [
        "view([(50, 10, 0), (0, 10, 0), (0, 1, 0), 90], [(0, 0, 0), (0, 30, 0), (35, 0, 35)],[(17, 0, 0), (0, 0, 17), (17, 45, 17)])"
      ],
      "execution_count": null,
      "outputs": [
        {
          "output_type": "stream",
          "name": "stdout",
          "text": [
            "T_VIEW\n",
            "[(1, 0, 0, -50), (0, 1, 0, -10), (0, 0, 1, 0), (0, 0, 0, 1)]\n",
            "[(0.0, 0.0, -1.0, 0), (0.0, 1.0, 0.0, 0), (-1.0, 0.0, 0.0, 0), (0, 0, 0, 1)]\n",
            "M_VIEW\n",
            "[[  0.   0.  -1.   0.]\n",
            " [  0.   1.   0. -10.]\n",
            " [ -1.   0.   0.  50.]\n",
            " [  0.   0.   0.   1.]]\n",
            "TICS\n"
          ]
        },
        {
          "output_type": "execute_result",
          "data": {
            "text/plain": [
              "([array([  0., -10.,  50.,   1.]),\n",
              "  array([ 0., 20., 50.,  1.]),\n",
              "  array([-35., -10.,  15.,   1.])],\n",
              " [array([  0., -10.,  33.,   1.]),\n",
              "  array([-17., -10.,  50.,   1.]),\n",
              "  array([-17.,  35.,  33.,   1.])])"
            ]
          },
          "metadata": {},
          "execution_count": 4
        }
      ]
    },
    {
      "cell_type": "code",
      "metadata": {
        "id": "-f-N-aOjOkKF"
      },
      "source": [
        "def get_M_persp(field_of_view):\n",
        "  aspect_ratio = 1\n",
        "  ### TODO: Define r, l, b, t, n, and f. Return M_persp\n",
        "  n = 0.1 # You can choose some very small number\n",
        "  radian = field_of_view*(math.pi/180)\n",
        "  t = math.tan(radian/2)*abs(n)\n",
        "  r = aspect_ratio*t\n",
        "  l = -r\n",
        "  b = -t\n",
        "  f = 100 # You can choose some very large number\n",
        "\n",
        "  scale_by_2 = [[2/(r-l), 0, 0, 0], \n",
        "               [0, 2/(t-b), 0 , 0],\n",
        "               [0, 0, 2/(n-f), 0],\n",
        "               [0, 0, 0, 1]]\n",
        "\n",
        "  translate_center_to_origin = [[1, 0, 0, -(r+l)/2],\n",
        "                                [0, 1, 0, -(t+b)/2],\n",
        "                                [0, 0, 1, -(n+f)/2],\n",
        "                                [0, 0, 0, 1]]\n",
        "\n",
        "  M_ortho = np.matmul(scale_by_2, translate_center_to_origin)\n",
        "\n",
        "  ### TODO: Find M_persp\n",
        "  M_ortho_to_persp = [[n,0,0,0],\n",
        "             [0,n,0,0],\n",
        "             [0,0,n+f,-n*f],\n",
        "             [0,0,1,0]]\n",
        "  M_persp = np.matmul(M_ortho,M_ortho_to_persp)\n",
        "  print('M_PERSPECTIVE')\n",
        "  print(M_persp)\n",
        "  return M_persp\n",
        "\n",
        "def perspective_projection(field_of_view, tri1, tri2):\n",
        "  M_persp = get_M_persp(field_of_view)\n",
        "  ### TODO: Use M_persp to find the vertices coordinates in camera space\n",
        "  print(M_persp)\n",
        "  triangle1v1 = np.matmul(M_persp,(tri1[0]))\n",
        "  triangle1v2 = np.matmul(M_persp,(tri1[1]))\n",
        "  triangle1v3 = np.matmul(M_persp,(tri1[2]))\n",
        "\n",
        "  triangle2v1 = np.matmul(M_persp,(tri2[0]))\n",
        "  triangle2v2 = np.matmul(M_persp,(tri2[1]))\n",
        "  triangle2v3 = np.matmul(M_persp,(tri2[2]))\n",
        "  \n",
        "  #Triangle 1\n",
        "  x1triangle1 = (triangle1v1[0]/triangle1v1[3])*50 + 50\n",
        "  y1triangle1 = (triangle1v1[1]/triangle1v1[3])*50 + 50\n",
        "  x2triangle1 = (triangle1v2[0]/triangle1v2[3])*50 + 50\n",
        "  y2triangle1 = (triangle1v2[1]/triangle1v2[3])*50 + 50\n",
        "  x3triangle1 = (triangle1v3[0]/triangle1v3[3])*50 + 50\n",
        "  y3triangle1 = (triangle1v3[1]/triangle1v3[3])*50 + 50\n",
        "  z1triangle1 = (triangle1v1[2]/triangle1v1[3]) * 50 + 50\n",
        "  z2triangle1 = (triangle1v2[2]/triangle1v2[3]) * 50 + 50\n",
        "  z3triangle1 = (triangle1v3[2]/triangle1v3[3]) * 50 + 50\n",
        "  \n",
        "\n",
        "  #Triangle 2\n",
        "  x1triangle2 = (triangle2v1[0]/triangle2v1[3])*50 + 50\n",
        "  y1triangle2 = (triangle2v1[1]/triangle2v1[3])*50 + 50\n",
        "  x2triangle2 = (triangle2v2[0]/triangle2v2[3])*50 + 50\n",
        "  y2triangle2 = (triangle2v2[1]/triangle2v2[3])*50 + 50\n",
        "  x3triangle2 = (triangle2v3[0]/triangle2v3[3])*50 + 50\n",
        "  y3triangle2 = (triangle2v3[1]/triangle2v3[3])*50 + 50\n",
        "  z1triangle2 = (triangle2v1[2]/triangle2v1[3]) * 50 + 50\n",
        "  z2triangle2 = (triangle2v2[2]/triangle2v2[3]) * 50 + 50\n",
        "  z3triangle2 = (triangle2v3[2]/triangle2v3[3]) * 50 + 50\n",
        "  \n",
        "\n",
        "  tri_1_screen_coordinates = [(x1triangle1,y1triangle1,z1triangle1),(x2triangle1,y2triangle1,z2triangle1),(x3triangle1,y3triangle1,z3triangle1)]\n",
        "  tri_2_screen_coordinates = [(x1triangle2,y1triangle2,z1triangle2),(x2triangle2,y2triangle2,z2triangle2),(x3triangle2,y3triangle2,z3triangle2)]\n",
        "\n",
        "  return tri_1_screen_coordinates, tri_2_screen_coordinates"
      ],
      "execution_count": null,
      "outputs": []
    },
    {
      "cell_type": "code",
      "metadata": {
        "colab": {
          "base_uri": "https://localhost:8080/"
        },
        "id": "hHykryy0InEH",
        "outputId": "abaa79b8-4ff6-45db-93b7-561e1a434808"
      },
      "source": [
        "field_of_view = 90\n",
        "tri1 = [[0.0, -10.0, 50.0, 1.0], [0.0, 20.0, 50.0, 1.0], [-35.0, -10.0, 15.0, 1.0]]\n",
        "tri2 = [[0.0, -10.0, 33.0, 1.0],[-17.0, -10.0, 50.0, 1.0],[-17.0, 35.0, 33.0, 1.0]]\n",
        "perspective_projection(field_of_view, tri1, tri2)\n"
      ],
      "execution_count": null,
      "outputs": [
        {
          "output_type": "stream",
          "name": "stdout",
          "text": [
            "M_PERSPECTIVE\n",
            "[[ 1.         0.         0.         0.       ]\n",
            " [ 0.         1.         0.         0.       ]\n",
            " [ 0.         0.        -1.002002   0.2002002]\n",
            " [ 0.         0.         1.         0.       ]]\n",
            "[[ 1.         0.         0.         0.       ]\n",
            " [ 0.         1.         0.         0.       ]\n",
            " [ 0.         0.        -1.002002   0.2002002]\n",
            " [ 0.         0.         1.         0.       ]]\n"
          ]
        },
        {
          "output_type": "execute_result",
          "data": {
            "text/plain": [
              "([(50.0, 40.0, 0.10010010010010006),\n",
              "  (50.0, 70.0, 0.10010010010010006),\n",
              "  (-66.66666666666667, 16.66666666666667, 0.5672339005672313)],\n",
              " [(50.0, 34.848484848484844, 0.20323353656687004),\n",
              "  (33.0, 40.0, 0.10010010010010006),\n",
              "  (24.242424242424242, 103.03030303030303, 0.20323353656687004)])"
            ]
          },
          "metadata": {},
          "execution_count": 6
        }
      ]
    },
    {
      "cell_type": "code",
      "metadata": {
        "id": "qL4_6FfBU9ch"
      },
      "source": [
        "def mvp(camera, triangle1, triangle2):\n",
        "  tri1_in_camera_space, tri2_in_camera_space = view(camera,triangle1,triangle2)\n",
        "  tri1_in_screen_space, tri2_in_screen_space = perspective_projection(camera[3], tri1_in_camera_space, tri2_in_camera_space)\n",
        "  return tri1_in_screen_space, tri2_in_screen_space, tri1_in_camera_space, tri2_in_camera_space"
      ],
      "execution_count": null,
      "outputs": []
    },
    {
      "cell_type": "code",
      "metadata": {
        "id": "LWt2igUpJihV"
      },
      "source": [
        "def edfunc(a, b, c):\n",
        "  if (c[0] - a[0]) * (b[1] - a[1]) - (c[1] - a[1]) * (b[0] - a[0]) >= 0:\n",
        "    return True\n",
        "  else:\n",
        "    return False\n",
        "\n",
        "def line(a, b, c, p, q):\n",
        "  l1 = edfunc(a, b, (p,q))\n",
        "  l2 = edfunc(b, c, (p,q))\n",
        "  l3 = edfunc(c, a, (p,q))\n",
        "  return l1 and l2 and l3"
      ],
      "execution_count": null,
      "outputs": []
    },
    {
      "cell_type": "code",
      "metadata": {
        "id": "ccsB4smnKXsq"
      },
      "source": [
        "def rasterize(tri1, tri2):\n",
        "  pix = np.zeros(shape = (100, 100, 3)) # 100x100 matrix of RGB values \n",
        "  \n",
        "  # The matrix format is [row][col], or [y][x], so color the pixs accordingly.\n",
        "  ### TODO: Draw the triangles\n",
        "\n",
        "#Triangle 2\n",
        "  xpoint21 = tri2[0][0]\n",
        "  ypoint21 = tri2[0][1]\n",
        "\n",
        "  xpoint22 = tri2[1][0]\n",
        "  ypoint22 = tri2[1][1]\n",
        "\n",
        "  xpoint23 = tri2[2][0]\n",
        "  ypoint23 = tri2[2][1]\n",
        "  \n",
        "  maxX = max(xpoint21, xpoint22, xpoint23);\n",
        "  minX = min(xpoint21, xpoint22, xpoint23);\n",
        "  maxY = max(ypoint21, ypoint22, ypoint23);\n",
        "  minY = min(ypoint21, ypoint22, ypoint23);\n",
        "\n",
        "  vs1 = (xpoint22 - xpoint21, ypoint22 - ypoint21);\n",
        "  vs2 = (xpoint23 - xpoint21, ypoint23 - ypoint21);\n",
        "\n",
        "  \n",
        "  for x in range(int(minX),int(maxX)):\n",
        "    for y in range(int(minY),int(maxY)):\n",
        "  \n",
        "      q = (x - xpoint21, y - ypoint21);\n",
        "\n",
        "      s = np.cross(q, vs2) / np.cross(vs1, vs2);\n",
        "      t = np.cross(vs1, q) / np.cross(vs1, vs2);\n",
        "\n",
        "      if ( (s >= 0) and (t >= 0) and (s + t <= 1)):\n",
        "        if((x >= 0 and x<100) and (y>= 0 and y < 100)):\n",
        "          pix[y,x]=[0, 255, 0]\n",
        "\n",
        "\n",
        "#Triangle 1\n",
        "  xpoint1 = tri1[0][0]\n",
        "  ypoint1 = tri1[0][1]\n",
        "\n",
        "  xpoint2 = tri1[1][0]\n",
        "  ypoint2 = tri1[1][1]\n",
        "\n",
        "  xpoint3 = tri1[2][0]\n",
        "  ypoint3 = tri1[2][1]\n",
        "\n",
        "  maximumX = max(xpoint1, xpoint2, xpoint3);\n",
        "  minimumX = min(xpoint1, xpoint2, xpoint3);\n",
        "  maximumY = max(ypoint1, ypoint2, ypoint3);\n",
        "  minimumY = min(ypoint1, ypoint2, ypoint3);\n",
        "\n",
        "  vs1 = (xpoint2 - xpoint1, ypoint2 - ypoint1);\n",
        "  vs2 = (xpoint3 - xpoint1, ypoint3 - ypoint1);\n",
        "\n",
        "  \n",
        "  for x in range(int(minimumX),int(maximumX)):\n",
        "    for y in range(int(minimumY),int(maximumY)):\n",
        "  \n",
        "      q = (x - xpoint1, y - ypoint1);\n",
        "\n",
        "      s = np.cross(q, vs2) / np.cross(vs1, vs2);\n",
        "      t = np.cross(vs1, q) / np.cross(vs1, vs2);\n",
        "\n",
        "      if ( (s >= 0) and (t >= 0) and (s + t <= 1)):\n",
        "        if((x >= 0 and x<100) and (y>= 0 and y < 100)):\n",
        "          pix[y,x]=[255, 0, 0]\n",
        "   \n",
        "  return pix\n",
        "\n",
        "  # The matrix format is [row][col], or [y][x], so color the pixs accordingly.\n",
        "  ### TODO: Draw the triangles\n",
        "def anti_aliasing(pix,tri1, tri2): \n",
        "\n",
        "  tri1_Ax = tri1[0][0]\n",
        "  tri1_Ay = tri1[0][1]\n",
        "  tri1_Bx = tri1[1][0]\n",
        "  tri1_By = tri1[1][1]\n",
        "  tri1_Cx = tri1[2][0]\n",
        "  tri1_Cy = tri1[2][1]\n",
        "\n",
        "  tri2_Ax = tri2[0][0]\n",
        "  tri2_Ay = tri2[0][1]\n",
        "  tri2_Bx = tri2[1][0]\n",
        "  tri2_By = tri2[1][1]\n",
        "  tri2_Cx = tri2[2][0]\n",
        "  tri2_Cy = tri2[2][1]\n",
        "\n",
        "\n",
        "  for i in range(100):\n",
        "    for j in range(100):\n",
        "\n",
        "      t1_sum = 0\n",
        "      t2_sum = 0\n",
        "\n",
        "      pix1_t1 = 0\n",
        "      pix2_t1 = 0\n",
        "      pix3_t1 = 0\n",
        "      pix4_t1 = 0\n",
        "      pix1_t2 = 0\n",
        "      pix2_t2 = 0\n",
        "      pix3_t2 = 0\n",
        "      pix4_t2 = 0\n",
        "\n",
        "      p = i + 0.25\n",
        "      q = j + 0.25\n",
        "\n",
        "      p1t1 = line((tri1_Ax,tri1_Ay), (tri1_Bx,tri1_By),(tri1_Cx,tri1_Cy), p, q) or line((tri1_Ax,tri1_Ay), (tri1_Cx,tri1_Cy),(tri1_Bx,tri1_By), p, q)\n",
        "      p1t2 = line((tri2_Ax,tri2_Ay), (tri2_Bx,tri2_By),(tri2_Cx,tri2_Cy), p, q) or line((tri2_Ax,tri2_Ay), (tri2_Cx,tri2_Cy),(tri2_Bx,tri2_By), p, q)\n",
        "      if p1t1:\n",
        "        pix1_t1 = 1\n",
        "      if p1t2:\n",
        "        pix1_t2 = 1\n",
        "\n",
        "      p = i + 0.75\n",
        "      q = j + 0.25\n",
        "\n",
        "      p2t1 = line((tri1_Ax,tri1_Ay), (tri1_Bx,tri1_By),(tri1_Cx,tri1_Cy), p, q) or line((tri1_Ax,tri1_Ay), (tri1_Cx,tri1_Cy),(tri1_Bx,tri1_By), p, q)\n",
        "      p2t2 = line((tri2_Ax,tri2_Ay), (tri2_Bx,tri2_By),(tri2_Cx,tri2_Cy), p, q) or line((tri2_Ax,tri2_Ay), (tri2_Cx,tri2_Cy),(tri2_Bx,tri2_By), p, q)\n",
        "      if p2t1:\n",
        "        pix2_t1 = 1\n",
        "      if p2t2:\n",
        "        pix2_t2 = 1\n",
        "\n",
        "      p = i + 0.25\n",
        "      q = j + 0.75\n",
        "\n",
        "      p3t1 = line((tri1_Ax,tri1_Ay), (tri1_Bx,tri1_By),(tri1_Cx,tri1_Cy), p, q) or line((tri1_Ax,tri1_Ay), (tri1_Cx,tri1_Cy),(tri1_Bx,tri1_By), p, q)\n",
        "      p3t2 = line((tri2_Ax,tri2_Ay), (tri2_Bx,tri2_By),(tri2_Cx,tri2_Cy), p, q) or line((tri2_Ax,tri2_Ay), (tri2_Cx,tri2_Cy),(tri2_Bx,tri2_By), p, q)\n",
        "      if p3t1:\n",
        "        pix3_t1 = 1\n",
        "      if p3t2:\n",
        "        pix3_t2 = 1\n",
        "\n",
        "      p = i + 0.75\n",
        "      q = j + 0.75\n",
        "\n",
        "      p4t1 = line((tri1_Ax,tri1_Ay), (tri1_Bx,tri1_By),(tri1_Cx,tri1_Cy), p, q) or line((tri1_Ax,tri1_Ay), (tri1_Cx,tri1_Cy),(tri1_Bx,tri1_By), p, q)\n",
        "      p4t2 = line((tri2_Ax,tri2_Ay), (tri2_Bx,tri2_By),(tri2_Cx,tri2_Cy), p, q) or line((tri2_Ax,tri2_Ay), (tri2_Cx,tri2_Cy),(tri2_Bx,tri2_By), p, q)\n",
        "      if p4t1:\n",
        "        pix4_t1 = 1\n",
        "      if p4t2:\n",
        "        pix4_t2 = 1\n",
        "\n",
        "      t1_sum = pix1_t1 + pix2_t1 + pix3_t1 + pix4_t1\n",
        "      t2_sum = pix1_t2 + pix2_t2 + pix3_t2 + pix4_t2\n",
        "\n",
        "      if t1_sum == 0:\n",
        "        pix[j][i][0] = 0 #red\n",
        "      elif t1_sum == 1:\n",
        "        pix[j][i][0] = 0.25 #red\n",
        "      elif t1_sum == 2:\n",
        "        pix[j][i][0] = 0.50 #red\n",
        "      elif t1_sum == 3:\n",
        "        pix[j][i][0] = 0.75 #red\n",
        "      elif t1_sum == 4:\n",
        "        pix[j][i][0] = 1 #red\n",
        "\n",
        "      if t2_sum == 0:\n",
        "        pix[j][i][1] = 0 #green\n",
        "      elif t2_sum == 1:\n",
        "        pix[j][i][1] = 0.25 #green\n",
        "      elif t2_sum == 2:\n",
        "        pix[j][i][1] = 0.50 #green\n",
        "      elif t2_sum == 3:\n",
        "        pix[j][i][1] = 0.75 #green\n",
        "      elif t2_sum == 4:\n",
        "        pix[j][i][1] = 1 #green\n",
        "\n",
        "  for i in range(100):\n",
        "    for j in range(100):\n",
        "      if(pix[j][i][1] > 0 and pix[j][i][0]>0):\n",
        "        if (z_buffer(i, j, tri1, tri2)):\n",
        "          pix[j][i][1] = 0\n",
        "        else: \n",
        "          pix[j][i][0] = 0 \n",
        "\n",
        "  return pix\n",
        "\n",
        "def form(perspective1_tri1):\n",
        "\n",
        "  x1 = perspective1_tri1[0][0]\n",
        "  y1 = perspective1_tri1[0][1]\n",
        "  z1 = perspective1_tri1[0][2]\n",
        "  x2 = perspective1_tri1[1][0]\n",
        "  y2 = perspective1_tri1[1][1]\n",
        "  z2 = perspective1_tri1[1][2]\n",
        "  x3 = perspective1_tri1[2][0]\n",
        "  y3 = perspective1_tri1[2][1]\n",
        "  z3 = perspective1_tri1[2][2]\n",
        "\n",
        "  a1 = x2 - x1\n",
        "  b1 = y2 - y1\n",
        "  c1 = z2 - z1\n",
        "  a2 = x3 - x1\n",
        "  b2 = y3 - y1\n",
        "  c2 = z3 - z1\n",
        "  a = b1 * c2 - b2 * c1\n",
        "  b = a2 * c1 - a1 * c2\n",
        "  c = a1 * b2 - b1 * a2\n",
        "  d = (- a * x1 - b * y1 - c * z1)\n",
        "  equation = [a,b,c,d]\n",
        "  return equation\n",
        "\n",
        "def z_buffer(i, j, tri1, tri2):\n",
        "  \n",
        "  f1 = form(tri1)\n",
        "  f2 = form(tri2)\n",
        "  \n",
        "  z1 = (-i*f1[0] -j*f1[1] - f1[3])/f1[2]\n",
        "  z2 = (-i*f2[0] -j*f2[1] - f2[3])/f2[2]\n",
        " \n",
        "  if z1 > z2:\n",
        "    return True\n",
        "  else: \n",
        "    return False"
      ],
      "execution_count": null,
      "outputs": []
    },
    {
      "cell_type": "code",
      "metadata": {
        "id": "pcSoDVNiNyKo",
        "colab": {
          "base_uri": "https://localhost:8080/"
        },
        "outputId": "b4a60257-8892-451c-fdbb-b36da78f79f0"
      },
      "source": [
        "# Triangle vertices in 3D world space\n",
        "tri1 = [(0, 0, 0), (0, 30, 0), (35, 0, 35)] # RGB(255, 0, 0), Red\n",
        "tri2 = [(17, 0, 0), (0, 0, 17), (17, 45, 17)] # RGB(0, 255, 0), Green\n",
        "\n",
        "# cam = [(x, y, z), (x_f, y_f, z_f), (x_u, y_u, z_u), fov]\n",
        "# The first coordinate is where the camera is in world space. The second is what\n",
        "# coordinate it is looking at/facing. The third represents the \"up\" axis.  \n",
        "# Ex. cam1, cam3 up = positive of y-axis. cam2 up = negative if y-axis (upside-down camera)\n",
        "cam1 = [(50, 10, 0), (0, 10, 0), (0, 1, 0), 90] \n",
        "cam2 = [(50, 10, 0), (0, 10, 0), (0, -1, 0), 105]\n",
        "cam3 = [(0, 10, 60), (0, 10, 0), (0, 1, 0), 120] \n",
        "\n",
        "perspective1_tri1, perspective1_tri2, tri1_in_camera_space, tri2_in_camera_space = mvp(cam1, tri1, tri2)\n",
        "perspective2_tri1, perspective2_tri2, tri1_in_camera_space, tri2_in_camera_space = mvp(cam2, tri1, tri2)\n",
        "perspective3_tri1, perspective3_tri2, tri1_in_camera_space, tri2_in_camera_space = mvp(cam3, tri1, tri2)\n",
        "\n",
        "# Draw triangles in 2D\n",
        "perspective1 = rasterize(perspective1_tri1, perspective1_tri2) \n",
        "perspective2 = rasterize(perspective2_tri1, perspective2_tri2)\n",
        "perspective3 = rasterize(perspective3_tri1, perspective3_tri2)\n",
        "\n",
        "### TODO: antialiasing and occlusion\n",
        "\n",
        "perspective1 = anti_aliasing(perspective1,perspective1_tri1, perspective1_tri2) \n",
        "perspective2 = anti_aliasing(perspective2,perspective2_tri1, perspective2_tri2)\n",
        "perspective3 = anti_aliasing(perspective3,perspective3_tri1, perspective3_tri2)\n",
        "# Replace with finished 100x100 matrix (row, column = y, x of pixs)\n",
        "# perspective1 = np.zeros(shape = (100, 100, 3)) \n",
        "# perspective2 = np.zeros(shape = (100, 100, 3))\n",
        "# perspective3 = np.zeros(shape = (100, 100, 3))"
      ],
      "execution_count": null,
      "outputs": [
        {
          "output_type": "stream",
          "name": "stdout",
          "text": [
            "T_VIEW\n",
            "[(1, 0, 0, -50), (0, 1, 0, -10), (0, 0, 1, 0), (0, 0, 0, 1)]\n",
            "[(0.0, 0.0, -1.0, 0), (0.0, 1.0, 0.0, 0), (-1.0, 0.0, 0.0, 0), (0, 0, 0, 1)]\n",
            "M_VIEW\n",
            "[[  0.   0.  -1.   0.]\n",
            " [  0.   1.   0. -10.]\n",
            " [ -1.   0.   0.  50.]\n",
            " [  0.   0.   0.   1.]]\n",
            "TICS\n",
            "M_PERSPECTIVE\n",
            "[[ 1.         0.         0.         0.       ]\n",
            " [ 0.         1.         0.         0.       ]\n",
            " [ 0.         0.        -1.002002   0.2002002]\n",
            " [ 0.         0.         1.         0.       ]]\n",
            "[[ 1.         0.         0.         0.       ]\n",
            " [ 0.         1.         0.         0.       ]\n",
            " [ 0.         0.        -1.002002   0.2002002]\n",
            " [ 0.         0.         1.         0.       ]]\n",
            "T_VIEW\n",
            "[(1, 0, 0, -50), (0, 1, 0, -10), (0, 0, 1, 0), (0, 0, 0, 1)]\n",
            "[(0.0, 0.0, 1.0, 0), (0.0, -1.0, 0.0, 0), (-1.0, 0.0, 0.0, 0), (0, 0, 0, 1)]\n",
            "M_VIEW\n",
            "[[ 0.  0.  1.  0.]\n",
            " [ 0. -1.  0. 10.]\n",
            " [-1.  0.  0. 50.]\n",
            " [ 0.  0.  0.  1.]]\n",
            "TICS\n",
            "M_PERSPECTIVE\n",
            "[[ 0.76732699  0.          0.          0.        ]\n",
            " [ 0.          0.76732699  0.          0.        ]\n",
            " [ 0.          0.         -1.002002    0.2002002 ]\n",
            " [ 0.          0.          1.          0.        ]]\n",
            "[[ 0.76732699  0.          0.          0.        ]\n",
            " [ 0.          0.76732699  0.          0.        ]\n",
            " [ 0.          0.         -1.002002    0.2002002 ]\n",
            " [ 0.          0.          1.          0.        ]]\n",
            "T_VIEW\n",
            "[(1, 0, 0, 0), (0, 1, 0, -10), (0, 0, 1, -60), (0, 0, 0, 1)]\n",
            "[(1.0, -0.0, 0.0, 0), (0.0, 1.0, 0.0, 0), (0.0, 0.0, -1.0, 0), (0, 0, 0, 1)]\n",
            "M_VIEW\n",
            "[[  1.   0.   0.   0.]\n",
            " [  0.   1.   0. -10.]\n",
            " [  0.   0.  -1.  60.]\n",
            " [  0.   0.   0.   1.]]\n",
            "TICS\n",
            "M_PERSPECTIVE\n",
            "[[ 0.57735027  0.          0.          0.        ]\n",
            " [ 0.          0.57735027  0.          0.        ]\n",
            " [ 0.          0.         -1.002002    0.2002002 ]\n",
            " [ 0.          0.          1.          0.        ]]\n",
            "[[ 0.57735027  0.          0.          0.        ]\n",
            " [ 0.          0.57735027  0.          0.        ]\n",
            " [ 0.          0.         -1.002002    0.2002002 ]\n",
            " [ 0.          0.          1.          0.        ]]\n"
          ]
        }
      ]
    },
    {
      "cell_type": "markdown",
      "metadata": {
        "id": "Gd83bOtWNvwP"
      },
      "source": [
        "\n",
        "Save the 100x100x3 RGB images you rendered with the given camera settings and triangle vertices. Images can be displayed using MatplotLib."
      ]
    },
    {
      "cell_type": "code",
      "metadata": {
        "id": "DBzYg5RNhs8P",
        "colab": {
          "base_uri": "https://localhost:8080/",
          "height": 778
        },
        "outputId": "e9781415-317d-483d-e066-c9a40fea36c5"
      },
      "source": [
        "# Save and view images\n",
        "# origin = \"lower\" sets origin of plot to bottom left\n",
        "plt.imshow(perspective1, origin=\"lower\") \n",
        "plt.show()\n",
        "plt.savefig('perspective1.png')\n",
        "files.download(\"perspective1.png\") \n",
        "plt.imshow(perspective2, origin=\"lower\") \n",
        "plt.show()\n",
        "plt.savefig('perspective2.png')\n",
        "files.download(\"perspective2.png\") \n",
        "plt.imshow(perspective3, origin=\"lower\") \n",
        "plt.show()\n",
        "plt.savefig('perspective3.png')\n",
        "files.download(\"perspective3.png\") "
      ],
      "execution_count": null,
      "outputs": [
        {
          "output_type": "display_data",
          "data": {
            "image/png": "[encoded data removed]",
            "text/plain": [
              "<Figure size 432x288 with 1 Axes>"
            ]
          },
          "metadata": {
            "needs_background": "light"
          }
        },
        {
          "output_type": "display_data",
          "data": {
            "application/javascript": [
              "\n",
              "    async function download(id, filename, size) {\n",
              "      if (!google.colab.kernel.accessAllowed) {\n",
              "        return;\n",
              "      }\n",
              "      const div = document.createElement('div');\n",
              "      const label = document.createElement('label');\n",
              "      label.textContent = `Downloading \"${filename}\": `;\n",
              "      div.appendChild(label);\n",
              "      const progress = document.createElement('progress');\n",
              "      progress.max = size;\n",
              "      div.appendChild(progress);\n",
              "      document.body.appendChild(div);\n",
              "\n",
              "      const buffers = [];\n",
              "      let downloaded = 0;\n",
              "\n",
              "      const channel = await google.colab.kernel.comms.open(id);\n",
              "      // Send a message to notify the kernel that we're ready.\n",
              "      channel.send({})\n",
              "\n",
              "      for await (const message of channel.messages) {\n",
              "        // Send a message to notify the kernel that we're ready.\n",
              "        channel.send({})\n",
              "        if (message.buffers) {\n",
              "          for (const buffer of message.buffers) {\n",
              "            buffers.push(buffer);\n",
              "            downloaded += buffer.byteLength;\n",
              "            progress.value = downloaded;\n",
              "          }\n",
              "        }\n",
              "      }\n",
              "      const blob = new Blob(buffers, {type: 'application/binary'});\n",
              "      const a = document.createElement('a');\n",
              "      a.href = window.URL.createObjectURL(blob);\n",
              "      a.download = filename;\n",
              "      div.appendChild(a);\n",
              "      a.click();\n",
              "      div.remove();\n",
              "    }\n",
              "  "
            ],
            "text/plain": [
              "<IPython.core.display.Javascript object>"
            ]
          },
          "metadata": {}
        },
        {
          "output_type": "display_data",
          "data": {
            "application/javascript": [
              "download(\"download_4aed01a2-b04c-4ef0-add5-87b7ab536daa\", \"perspective1.png\", 1273)"
            ],
            "text/plain": [
              "<IPython.core.display.Javascript object>"
            ]
          },
          "metadata": {}
        },
        {
          "output_type": "display_data",
          "data": {
            "image/png": "[encoded data removed]",
            "text/plain": [
              "<Figure size 432x288 with 1 Axes>"
            ]
          },
          "metadata": {
            "needs_background": "light"
          }
        },
        {
          "output_type": "display_data",
          "data": {
            "application/javascript": [
              "\n",
              "    async function download(id, filename, size) {\n",
              "      if (!google.colab.kernel.accessAllowed) {\n",
              "        return;\n",
              "      }\n",
              "      const div = document.createElement('div');\n",
              "      const label = document.createElement('label');\n",
              "      label.textContent = `Downloading \"${filename}\": `;\n",
              "      div.appendChild(label);\n",
              "      const progress = document.createElement('progress');\n",
              "      progress.max = size;\n",
              "      div.appendChild(progress);\n",
              "      document.body.appendChild(div);\n",
              "\n",
              "      const buffers = [];\n",
              "      let downloaded = 0;\n",
              "\n",
              "      const channel = await google.colab.kernel.comms.open(id);\n",
              "      // Send a message to notify the kernel that we're ready.\n",
              "      channel.send({})\n",
              "\n",
              "      for await (const message of channel.messages) {\n",
              "        // Send a message to notify the kernel that we're ready.\n",
              "        channel.send({})\n",
              "        if (message.buffers) {\n",
              "          for (const buffer of message.buffers) {\n",
              "            buffers.push(buffer);\n",
              "            downloaded += buffer.byteLength;\n",
              "            progress.value = downloaded;\n",
              "          }\n",
              "        }\n",
              "      }\n",
              "      const blob = new Blob(buffers, {type: 'application/binary'});\n",
              "      const a = document.createElement('a');\n",
              "      a.href = window.URL.createObjectURL(blob);\n",
              "      a.download = filename;\n",
              "      div.appendChild(a);\n",
              "      a.click();\n",
              "      div.remove();\n",
              "    }\n",
              "  "
            ],
            "text/plain": [
              "<IPython.core.display.Javascript object>"
            ]
          },
          "metadata": {}
        },
        {
          "output_type": "display_data",
          "data": {
            "application/javascript": [
              "download(\"download_6ab88060-df14-4b98-a0fe-d4bd9d8fe032\", \"perspective2.png\", 1273)"
            ],
            "text/plain": [
              "<IPython.core.display.Javascript object>"
            ]
          },
          "metadata": {}
        },
        {
          "output_type": "display_data",
          "data": {
            "image/png": "[encoded data removed]",
            "text/plain": [
              "<Figure size 432x288 with 1 Axes>"
            ]
          },
          "metadata": {
            "needs_background": "light"
          }
        },
        {
          "output_type": "display_data",
          "data": {
            "application/javascript": [
              "\n",
              "    async function download(id, filename, size) {\n",
              "      if (!google.colab.kernel.accessAllowed) {\n",
              "        return;\n",
              "      }\n",
              "      const div = document.createElement('div');\n",
              "      const label = document.createElement('label');\n",
              "      label.textContent = `Downloading \"${filename}\": `;\n",
              "      div.appendChild(label);\n",
              "      const progress = document.createElement('progress');\n",
              "      progress.max = size;\n",
              "      div.appendChild(progress);\n",
              "      document.body.appendChild(div);\n",
              "\n",
              "      const buffers = [];\n",
              "      let downloaded = 0;\n",
              "\n",
              "      const channel = await google.colab.kernel.comms.open(id);\n",
              "      // Send a message to notify the kernel that we're ready.\n",
              "      channel.send({})\n",
              "\n",
              "      for await (const message of channel.messages) {\n",
              "        // Send a message to notify the kernel that we're ready.\n",
              "        channel.send({})\n",
              "        if (message.buffers) {\n",
              "          for (const buffer of message.buffers) {\n",
              "            buffers.push(buffer);\n",
              "            downloaded += buffer.byteLength;\n",
              "            progress.value = downloaded;\n",
              "          }\n",
              "        }\n",
              "      }\n",
              "      const blob = new Blob(buffers, {type: 'application/binary'});\n",
              "      const a = document.createElement('a');\n",
              "      a.href = window.URL.createObjectURL(blob);\n",
              "      a.download = filename;\n",
              "      div.appendChild(a);\n",
              "      a.click();\n",
              "      div.remove();\n",
              "    }\n",
              "  "
            ],
            "text/plain": [
              "<IPython.core.display.Javascript object>"
            ]
          },
          "metadata": {}
        },
        {
          "output_type": "display_data",
          "data": {
            "application/javascript": [
              "download(\"download_a362f571-c215-4615-9ecf-220c128d5999\", \"perspective3.png\", 1273)"
            ],
            "text/plain": [
              "<IPython.core.display.Javascript object>"
            ]
          },
          "metadata": {}
        },
        {
          "output_type": "display_data",
          "data": {
            "text/plain": [
              "<Figure size 432x288 with 0 Axes>"
            ]
          },
          "metadata": {}
        }
      ]
    },
    {
      "cell_type": "code",
      "metadata": {
        "colab": {
          "base_uri": "https://localhost:8080/",
          "height": 282
        },
        "id": "2Eph04MbKiTD",
        "outputId": "8badfdcb-915f-4cd5-c374-ddbacd2f67ac"
      },
      "source": [
        "# Example of how to plot an image with a red line at X = 49.\n",
        "# Note that row = y, column = x value of pix\n",
        "example_image = np.zeros(shape = (100, 100, 3))\n",
        "for row in range(100):\n",
        "  example_image[row][49] = [255, 0, 0]\n",
        "  example_image[row][52] = [0, 255, 0]\n",
        "plt.imshow(example_image, origin=\"lower\")\n",
        "plt.show()"
      ],
      "execution_count": null,
      "outputs": [
        {
          "output_type": "stream",
          "name": "stderr",
          "text": [
            "Clipping input data to the valid range for imshow with RGB data ([0..1] for floats or [0..255] for integers).\n"
          ]
        },
        {
          "output_type": "display_data",
          "data": {
            "image/png": "[encoded data removed]",
            "text/plain": [
              "<Figure size 432x288 with 1 Axes>"
            ]
          },
          "metadata": {
            "needs_background": "light"
          }
        }
      ]
    },
    {
      "cell_type": "markdown",
      "metadata": {
        "id": "-ZVUgX39zZZh"
      },
      "source": [
        "# Submission details\n",
        "\n",
        "Click \"File\" > \"Save a Copy in Drive\" and rename the file to your netID followed by \"_InfoVisHW1.\" Ex. \"bsl334_InfoVisHW1.ipynb\"\n",
        "\n",
        "You will be submitting your Colab notebook along with your three camera perspective images. \n",
        "\n"
      ]
    },
    {
      "cell_type": "markdown",
      "metadata": {
        "id": "zCZzYBuQ4NSC"
      },
      "source": [
        "Grading\n",
        "\n",
        "```\n",
        "Single triangle with MVP (50%)\n",
        "Single triangle with MVP and anti-aliasing (75%)\n",
        "Two triangles with MVP, anti-aliasing, and occlusion (100%) \n",
        "```"
      ]
    }
  ]
}